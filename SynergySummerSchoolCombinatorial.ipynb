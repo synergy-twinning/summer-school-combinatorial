{
 "cells": [
  {
   "cell_type": "code",
   "execution_count": 1,
   "metadata": {},
   "outputs": [
    {
     "data": {
      "text/html": [
       "<button id=\"showHideCodeButton\" class=\"jupyter-widgets jupyter-button widget-button\" onclick=\"\n",
       "                    jQuery('.input').toggle(); jQuery('.prompt').toggle();                    \n",
       "                    var visibleElements = jQuery('.prompt').find(':visible').not('script');\n",
       "                    if (this.innerHTML == 'Show code') this.innerHTML = 'Hide code';\n",
       "                    else this.innerHTML = 'Show code';\">Hide code</button>"
      ]
     },
     "metadata": {},
     "output_type": "display_data"
    }
   ],
   "source": [
    "# Add a button to hide / show code blocks \n",
    "import IPython.core.display as di \n",
    "di.display_html('''<button id=\"showHideCodeButton\" class=\"jupyter-widgets jupyter-button widget-button\" onclick=\"\n",
    "                    jQuery('.input').toggle(); jQuery('.prompt').toggle();                    \n",
    "                    var visibleElements = jQuery('.prompt').find(':visible').not('script');\n",
    "                    if (this.innerHTML == 'Show code') this.innerHTML = 'Hide code';\n",
    "                    else this.innerHTML = 'Show code';\">Hide code</button>''', raw=True)"
   ]
  },
  {
   "cell_type": "markdown",
   "metadata": {},
   "source": [
    "# SYNERGY Summer School Combinatorial\n",
    "\n",
    "The notebook presents the optimization of simplified real-world problem (Production Scheduling) with a multiobjective optimization algorithm (NSGA-II)."
   ]
  },
  {
   "cell_type": "markdown",
   "metadata": {},
   "source": [
    "# NSGA-II Algorithm\n",
    "\n",
    "K. Deb, S. Agrawal, A. Pratab and T. Meyarivan, \"A fast and elitist multiobjective genetic algorithm: NSGA-II,\" \n",
    "IEEE Transactions on Evolutionary Computation, Vol. 6, No. 2, pp. 182-197, 2002. http://ieeexplore.ieee.org/document/996017/\n",
    "\n",
    "## Algorithm Implementation: DEAP Package\n",
    "\n",
    "- https://github.com/DEAP/deap\n",
    "- https://deap.readthedocs.io/en/master/\n",
    "- https://github.com/DEAP/deap/blob/master/examples/ga/nsga2.py"
   ]
  },
  {
   "cell_type": "code",
   "execution_count": 2,
   "metadata": {},
   "outputs": [
    {
     "data": {
      "text/html": [
       "\n",
       "        <iframe\n",
       "            width=\"100%\"\n",
       "            height=\"600\"\n",
       "            src=\"NSGA-II.pdf\"\n",
       "            frameborder=\"0\"\n",
       "            allowfullscreen\n",
       "        ></iframe>\n",
       "        "
      ],
      "text/plain": [
       "<IPython.lib.display.IFrame at 0x2964bc8d518>"
      ]
     },
     "metadata": {},
     "output_type": "display_data"
    }
   ],
   "source": [
    "from IPython.display import IFrame\n",
    "from IPython.display import display\n",
    "import os\n",
    "\n",
    "def display_iframe(src, width='100%', height=600):    \n",
    "    if 'BINDER_URL' in os.environ:\n",
    "        prepend = 'https://rawgit.com/synergy-twinning/summer-school-combinatorial/master/'\n",
    "        source = prepend + src\n",
    "    else:\n",
    "        source = src        \n",
    "    display(IFrame(source, width=width, height=height));\n",
    "\n",
    "display_iframe(\"NSGA-II.pdf\")"
   ]
  },
  {
   "cell_type": "markdown",
   "metadata": {},
   "source": [
    "# Test Problem\n",
    "\n",
    "\n",
    "### Production Scheduling Optimization\n",
    "\n",
    "Orders must be scheduled in many production lanes. The total time of production is determined by the last order being produced. \n",
    "\n",
    "The problem has many orders that consist of different products that need to be processed in time on available production lanes. \n",
    "One of the two objectives is to minimize the time of production and other is to minimize the number of overdue order.\n",
    "\n",
    "https://www.sciencedirect.com/science/article/pii/S0957417413003321/pdfft?md5=3ec498119be58a1a2266afa214c81dde&pid=1-s2.0-S0957417413003321-main.pdf"
   ]
  },
  {
   "cell_type": "code",
   "execution_count": 3,
   "metadata": {},
   "outputs": [
    {
     "data": {
      "text/html": [
       "\n",
       "        <iframe\n",
       "            width=\"100%\"\n",
       "            height=\"600\"\n",
       "            src=\"production_scheduling.pdf\"\n",
       "            frameborder=\"0\"\n",
       "            allowfullscreen\n",
       "        ></iframe>\n",
       "        "
      ],
      "text/plain": [
       "<IPython.lib.display.IFrame at 0x2964bc6ec18>"
      ]
     },
     "metadata": {},
     "output_type": "display_data"
    }
   ],
   "source": [
    "display_iframe(\"production_scheduling.pdf\")"
   ]
  },
  {
   "cell_type": "code",
   "execution_count": 4,
   "metadata": {},
   "outputs": [
    {
     "name": "stderr",
     "output_type": "stream",
     "text": [
      "C:\\Anaconda3\\envs\\tensorflow\\lib\\site-packages\\deap\\tools\\_hypervolume\\pyhv.py:33: ImportWarning: Falling back to the python version of hypervolume module. Expect this to be very slow.\n",
      "  \"module. Expect this to be very slow.\", ImportWarning)\n"
     ]
    }
   ],
   "source": [
    "##################################\n",
    "# \n",
    "# Imports\n",
    "#\n",
    "##################################\n",
    "\n",
    "%matplotlib notebook\n",
    "\n",
    "import array\n",
    "import random\n",
    "import json\n",
    "import numpy as np\n",
    "import matplotlib.pyplot as plt\n",
    "from math import sqrt, tanh\n",
    "import os\n",
    "import ctypes\n",
    "\n",
    "from deap import algorithms\n",
    "from deap import base\n",
    "from deap import benchmarks\n",
    "from deap.benchmarks.tools import diversity, convergence, hypervolume\n",
    "from deap import creator\n",
    "from deap import tools\n",
    "\n",
    "from ipywidgets import widgets, Layout, Button, Box\n",
    "import numpy as np\n",
    "\n",
    "import warnings\n",
    "warnings.simplefilter('ignore')"
   ]
  },
  {
   "cell_type": "code",
   "execution_count": 5,
   "metadata": {},
   "outputs": [],
   "source": [
    "def generate_random_production_capacities(number_of_lanes, number_of_products, number_of_orders, seed=None):\n",
    "    \"\"\"Returns matrix of size number_of_products x number_of_lanes \n",
    "    where each entry represents the time that a certain lane needs \n",
    "    to produce a certain product. If a value in the matrix is equal\n",
    "    to infinity, then that lane can't produce the corresponding product.\n",
    "\n",
    "    The function also returns a list of orders that have to be executed. \n",
    "    Each order is described with the tuple (product, quantity, deadline).\"\"\"\n",
    "    if seed is not None:\n",
    "        np.random.seed(seed)\n",
    "    P = np.random.randint(1, high=6, size=(number_of_products, number_of_lanes)).astype(float)\n",
    "    for i in range(number_of_products):\n",
    "        for j in np.random.choice(list(range(number_of_lanes)), size=int(0.5*number_of_lanes)):\n",
    "            P[i,j] = np.inf\n",
    "    O = []\n",
    "    for _ in range(number_of_orders):\n",
    "        O.append((np.random.randint(0, number_of_products), np.random.randint(2, 10), np.random.randint(70, 130)))\n",
    "    return P, O"
   ]
  },
  {
   "cell_type": "code",
   "execution_count": 15,
   "metadata": {
    "collapsed": true
   },
   "outputs": [],
   "source": [
    "P, O = generate_random_production_capacities(3, 7, 4, seed=2001)"
   ]
  },
  {
   "cell_type": "markdown",
   "metadata": {},
   "source": [
    "A matrix of size $number\\_of\\_products \\times number\\_of\\_lanes$, where each entry is the time it takes to produce a certain product on the specific lane."
   ]
  },
  {
   "cell_type": "code",
   "execution_count": 16,
   "metadata": {},
   "outputs": [
    {
     "data": {
      "text/plain": [
       "array([[  1.,   5.,  inf],\n",
       "       [  3.,  inf,   2.],\n",
       "       [ inf,   3.,   5.],\n",
       "       [  4.,  inf,   5.],\n",
       "       [  3.,   2.,  inf],\n",
       "       [  4.,   3.,  inf],\n",
       "       [  2.,   2.,  inf]])"
      ]
     },
     "execution_count": 16,
     "metadata": {},
     "output_type": "execute_result"
    }
   ],
   "source": [
    "P"
   ]
  },
  {
   "cell_type": "markdown",
   "metadata": {},
   "source": [
    "List of orders where each order is a tuple of 3 values $(product, quantity, deadline)$."
   ]
  },
  {
   "cell_type": "code",
   "execution_count": 17,
   "metadata": {},
   "outputs": [
    {
     "data": {
      "text/plain": [
       "[(5, 2, 119), (0, 7, 115), (0, 8, 127), (1, 8, 109)]"
      ]
     },
     "execution_count": 17,
     "metadata": {},
     "output_type": "execute_result"
    }
   ],
   "source": [
    "O"
   ]
  },
  {
   "cell_type": "code",
   "execution_count": null,
   "metadata": {},
   "outputs": [],
   "source": []
  },
  {
   "cell_type": "code",
   "execution_count": 9,
   "metadata": {},
   "outputs": [],
   "source": [
    "class ProgramEvaluator:\n",
    "    \"\"\"Class used to evaluate, mutate, cross and generate new schedules.\"\"\"\n",
    "    def __init__(self, P, O):\n",
    "        self.P = P\n",
    "        self.O = O\n",
    "        self.number_of_lanes = P.shape[1]\n",
    "        self.number_of_products = P.shape[0]\n",
    "        \n",
    "    def total_time_per_lane(self, lanes):\n",
    "        \"\"\"Returns the time of the last executed order for each of the lanes\"\"\"\n",
    "        switching_products_penalty = 2\n",
    "        \n",
    "        lane_times = []\n",
    "        for i, lane in enumerate(lanes):\n",
    "            total = 0\n",
    "            for product, quantity, deadline in lane:\n",
    "                total+=self.P[product, i]*quantity\n",
    "                \n",
    "            for j in range(len(lane)-1):\n",
    "                product1, _, _ = lane[j]\n",
    "                product2, _, _ = lane[j+1]\n",
    "                if product1!=product2:\n",
    "                    total+=switching_products_penalty\n",
    "                \n",
    "                \n",
    "            lane_times.append(total)\n",
    "        return lane_times\n",
    "    \n",
    "    def order_overdue(self, lanes):\n",
    "        \"\"\"Returns dictionary where keys are orders that were finished after deadline and values are delays.\"\"\"\n",
    "        dc  = dict()\n",
    "        for i, lane in enumerate(lanes):\n",
    "            total = 0\n",
    "            for order in lane:\n",
    "                product, quantity, deadline = order\n",
    "                total+=self.P[product, i]*quantity\n",
    "                # Ignore orders that were executed in time\n",
    "                if total>deadline:\n",
    "                    dc[order]=total-deadline\n",
    "        return dc\n",
    "    \n",
    "    def generate_init_solution(self):\n",
    "        \"\"\"Construct a random vector of length 2*number_of_orders. \n",
    "        Hirst half of the vector symbolizes the lane on which each\n",
    "        order is produced. The second half of the vector is the priority of each order. \n",
    "\n",
    "        Example:\n",
    "        o = [A, B, C, D, E]\n",
    "        x = [0, 1, 2, 1, 1,    3, 4, 2, 0 , 1]\n",
    "\n",
    "        Schedule:\n",
    "        L0 [A]\n",
    "        L1 [D, E, B] #Note the priority of execution\n",
    "        L2 [C]\n",
    "        \"\"\"\n",
    "        lane_vec = []\n",
    "        # For each product, choose a random lane that can execute this order.\n",
    "        for product, quantity, deadline in self.O:\n",
    "            # All possible lanes\n",
    "            possible_lanes = np.argwhere(self.P[product, :]<np.inf).flatten().tolist()\n",
    "            if len(possible_lanes)==0:\n",
    "                raise ValueError(\"No lane can produce a product.\")\n",
    "            random.shuffle(possible_lanes)\n",
    "            lane_vec.append(possible_lanes[0])\n",
    "        # Shuffled random vector of priorities\n",
    "        priority = list(range(len(self.O)))\n",
    "        random.shuffle(priority)\n",
    "        # Return merges vector\n",
    "        return lane_vec + priority\n",
    "    \n",
    "    def mutation(self, x):\n",
    "        \"\"\"Takes one individual from the population and constructs\n",
    "        a new individual that has some of its properties changed. \n",
    "        Generated individual must be valid.\"\"\"\n",
    "        # The probability that order randomly changes lane\n",
    "        prob_lane_change = 0.7\n",
    "        # The probability of a random swap of priorities\n",
    "        prob_priority_swap = 0.7\n",
    "        \n",
    "        # Lanes of executions\n",
    "        lane_to_execute_on = x[:len(self.O)]\n",
    "        # Priorities\n",
    "        order_of_executions = x[len(self.O):]\n",
    "        \n",
    "        # New lane distribution\n",
    "        lane_to_execute_on_new = []\n",
    "        for old_lane, (product, quantity, deadline) in zip(lane_to_execute_on, self.O):\n",
    "            possible_lanes = np.argwhere(self.P[product, :]<np.inf).flatten().tolist()\n",
    "            random.shuffle(possible_lanes)\n",
    "            # Switch lane with probability prob_lane_change\n",
    "            if random.random() <= prob_lane_change:\n",
    "                lane_to_execute_on_new.append(possible_lanes[0])\n",
    "            else:\n",
    "                lane_to_execute_on_new.append(old_lane)\n",
    "        \n",
    "        # Swap priorities with probability prob_priority_swap\n",
    "        for i in range(len(order_of_executions)):\n",
    "            if np.random.rand()<prob_priority_swap:\n",
    "                j = np.random.randint(0, len(order_of_executions))\n",
    "                # Swap with random element\n",
    "                tmp = order_of_executions[i]\n",
    "                order_of_executions[i] = order_of_executions[j]\n",
    "                order_of_executions[j] = tmp\n",
    "        return lane_to_execute_on_new+order_of_executions\n",
    "    \n",
    "    def crossover(self, x1, x2):\n",
    "        \"\"\"Takes 2 individual from the population and constructs\n",
    "        2 new individuals that are similar to their parents.\"\"\"\n",
    "        if len(x1)!=2*len(self.O):\n",
    "            raise ValueError(\"Input vector should 2x larger than the size as the number of orders.\")\n",
    "        if len(x2)!=2*len(self.O):\n",
    "            raise ValueError(\"Input vector should 2x larger than the size as the number of orders.\")\n",
    "        \n",
    "        lane_to_execute_on1 = x1[:len(self.O)]\n",
    "        order_of_executions1 = x1[len(self.O):]\n",
    "\n",
    "        lane_to_execute_on2 = x2[:len(self.O)]\n",
    "        order_of_executions2 = x2[len(self.O):]\n",
    "        \n",
    "        # Cut vectors at random point and combine them to form new individuals\n",
    "        cut = np.random.randint(1, high=len(lane_to_execute_on2)-1)\n",
    "        a = lane_to_execute_on1[0:cut]+lane_to_execute_on2[cut:]\n",
    "        b = lane_to_execute_on2[0:cut]+lane_to_execute_on1[cut:]\n",
    "        \n",
    "        return [a+order_of_executions2, b+order_of_executions1]\n",
    "\n",
    "    def evaluate(self, x):\n",
    "        \"\"\"Evaluate schedule represented as a vector. The first half of the vector \n",
    "        represents the assignment of each order to a certain lane. If the order can't\n",
    "        be finished on the assigned lane, then the solution is invalid. The second part\n",
    "        of the schedule is the priority of orders. Orders with the smallest number will\n",
    "        be executed first. The second part of the vector is a set of numbers \n",
    "        from 0 to n that determine priority of each order.\"\"\"\n",
    "        if len(x)!=2*len(self.O):\n",
    "            raise ValueError(\"Input vector should 2x larger than the size as the number of orders.\")\n",
    "        lane_to_execute_on = x[:len(self.O)]\n",
    "        order_of_executions = x[len(self.O):]\n",
    "        \n",
    "        # Reorder to lanes and sort\n",
    "        lanes = [[] for _ in range(self.number_of_lanes)]\n",
    "        tmp_lane = [[] for _ in range(self.number_of_lanes)]\n",
    "        for lane, col in zip(lane_to_execute_on, list(zip(order_of_executions, self.O))):\n",
    "            tmp_lane[lane].append(col)\n",
    "        for i, l in enumerate(tmp_lane):\n",
    "            for p, x in sorted(l):\n",
    "                lanes[i].append(x)\n",
    "\n",
    "        totals = self.total_time_per_lane(lanes)\n",
    "        orders_over = self.order_overdue(lanes)\n",
    "        # Return time of the longest executing lane. \n",
    "        o1 = np.max(totals)\n",
    "        # Return the summed time of all missed deadlines.\n",
    "        o2 = np.sum(list(orders_over.values()))\n",
    "        \n",
    "        #print([o1, o2])\n",
    "        return [o1, o2] \n"
   ]
  },
  {
   "cell_type": "code",
   "execution_count": 19,
   "metadata": {},
   "outputs": [
    {
     "data": {
      "text/plain": [
       "array([[  1.,   5.,  inf],\n",
       "       [  3.,  inf,   2.],\n",
       "       [ inf,   3.,   5.],\n",
       "       [  4.,  inf,   5.],\n",
       "       [  3.,   2.,  inf],\n",
       "       [  4.,   3.,  inf],\n",
       "       [  2.,   2.,  inf]])"
      ]
     },
     "execution_count": 19,
     "metadata": {},
     "output_type": "execute_result"
    }
   ],
   "source": [
    "P"
   ]
  },
  {
   "cell_type": "code",
   "execution_count": 20,
   "metadata": {},
   "outputs": [
    {
     "data": {
      "text/plain": [
       "[(5, 2, 119), (0, 7, 115), (0, 8, 127), (1, 8, 109)]"
      ]
     },
     "execution_count": 20,
     "metadata": {},
     "output_type": "execute_result"
    }
   ],
   "source": [
    "O"
   ]
  },
  {
   "cell_type": "code",
   "execution_count": 22,
   "metadata": {},
   "outputs": [],
   "source": [
    "pe = ProgramEvaluator(P, O)\n",
    "s = pe.generate_init_solution()"
   ]
  },
  {
   "cell_type": "code",
   "execution_count": 24,
   "metadata": {},
   "outputs": [
    {
     "name": "stdout",
     "output_type": "stream",
     "text": [
      "[1, 1, 0, 0, 2, 1, 0, 3]\n"
     ]
    },
    {
     "data": {
      "text/plain": [
       "[43.0, 0.0]"
      ]
     },
     "execution_count": 24,
     "metadata": {},
     "output_type": "execute_result"
    }
   ],
   "source": [
    "print(s)\n",
    "pe.evaluate(s)"
   ]
  },
  {
   "cell_type": "code",
   "execution_count": null,
   "metadata": {},
   "outputs": [],
   "source": [
    "##################################\n",
    "# \n",
    "# Algorithm Set Up\n",
    "#\n",
    "# Change this code to change the definition of the optimization problem, e.g., the attribute bounds.\n",
    "# Set use_external_library_for_evaluation to True if external libraries (.dll or .so) are to be used for evaluating \n",
    "# the solutions. If it is set to False, the Python code is used for evaluation. \n",
    "#\n",
    "##################################\n",
    "\n",
    "capacities, orders = generate_random_production_capacities(number_of_lanes=3, number_of_products=7, number_of_orders=20, seed=42)\n",
    "pe = ProgramEvaluator(capacities, orders)\n",
    "\n",
    "optimization_type = (-1.0, -1.0)  # -1..minimization, 1..maximization\n",
    "objective_name = [\"Total time\", \"Overdue deadline\"]\n",
    "objective_limit = [[0, 400], [0, 1700]]\n",
    "reference_point = [0, 0]\n",
    "hypervolume_upper_limit = reference_point[0] * reference_point[1]\n",
    "\n",
    "creator.create(\"FitnessMax\", base.Fitness, weights=optimization_type)\n",
    "creator.create(\"Individual\", list, fitness=creator.FitnessMax)\n",
    "toolbox = base.Toolbox()\n",
    "toolbox.register(\"individual\", lambda ins: ins(pe.generate_init_solution()), creator.Individual)\n",
    "toolbox.register(\"population\", tools.initRepeat, list, toolbox.individual)\n",
    "toolbox.register(\"mutate\", pe.mutation)\n",
    "toolbox.register(\"mate\", pe.crossover)\n",
    "toolbox.register(\"evaluate\", pe.evaluate)\n",
    "toolbox.register(\"select\", tools.selNSGA2)"
   ]
  },
  {
   "cell_type": "code",
   "execution_count": null,
   "metadata": {},
   "outputs": [],
   "source": [
    "##################################\n",
    "# \n",
    "# Auxiliary Functions\n",
    "#\n",
    "##################################\n",
    "def fitness_data(population):\n",
    "    fitness_array_data = []\n",
    "    for individual in population:\n",
    "        fitness_array_data += [individual.fitness.values]    \n",
    "    fitness_array_data = np.array(fitness_array_data)\n",
    "    return fitness_array_data\n",
    "\n",
    "\n",
    "def plot_data(plot, data, marker, label1, color1):\n",
    "    plot.plot(data[:,0], data[:,1], marker, color=color1, label=label1) "
   ]
  },
  {
   "cell_type": "code",
   "execution_count": null,
   "metadata": {
    "collapsed": true
   },
   "outputs": [],
   "source": []
  },
  {
   "cell_type": "code",
   "execution_count": null,
   "metadata": {},
   "outputs": [],
   "source": []
  },
  {
   "cell_type": "code",
   "execution_count": null,
   "metadata": {},
   "outputs": [],
   "source": []
  },
  {
   "cell_type": "code",
   "execution_count": null,
   "metadata": {},
   "outputs": [],
   "source": []
  },
  {
   "cell_type": "code",
   "execution_count": null,
   "metadata": {},
   "outputs": [],
   "source": [
    "def optimize(population_size, number_of_generations, crossover_probability, mutation_probability):\n",
    "    # initialize population with pop_size solutions\n",
    "    population = toolbox.population(n=population_size)\n",
    "\n",
    "    # evaluate the solutions\n",
    "    fitnesses = toolbox.map(toolbox.evaluate, population)\n",
    "    for ind, fit in zip(population, fitnesses):\n",
    "        ind.fitness.values = fit\n",
    "        \n",
    "    # use this procedure just to assign crowding distance\n",
    "    population = toolbox.select(population, len(population))\n",
    "\n",
    "    # save hypervolume\n",
    "    hypervolume_history = np.array([[0,0]])\n",
    "\n",
    "    # begin generational process\n",
    "    for generation in range(1, number_of_generations):\n",
    "        print(\"GEN\", generation)\n",
    "        # tournament selection based on dominance (D) between two solutions, \n",
    "        # if the two solutions do not interdominate the selection is made based on crowding distance (CD)\n",
    "        offspring = tools.selTournamentDCD(population, len(population))\n",
    "        offspring = [toolbox.clone(ind) for ind in offspring]\n",
    "        print(\"offspring len\", len(offspring))\n",
    "   \n",
    "        # for every consecutive pair of offspring\n",
    "        for ind1, ind2 in zip(offspring[::2], offspring[1::2]):\n",
    "            # perform crossover\n",
    "            if random.random() <= crossover_probability:\n",
    "                toolbox.mate(ind1, ind2)\n",
    "\n",
    "            # perform mutation\n",
    "            if random.random() <= mutation_probability:\n",
    "                toolbox.mutate(ind1)\n",
    "            if random.random() <= mutation_probability:\n",
    "                toolbox.mutate(ind2)\n",
    "\n",
    "        # evaluate solutions\n",
    "        fitnesses = toolbox.map(toolbox.evaluate, offspring)\n",
    "        for ind, fit in zip(offspring, fitnesses):\n",
    "            ind.fitness.values = fit\n",
    "\n",
    "        # select next generation population\n",
    "        population = toolbox.select(population + offspring, population_size)        \n",
    "        \n",
    "        # find nondominated solutions\n",
    "        nondominated_individuals = tools.sortNondominated(population, len(population))[0]\n",
    "        \n",
    "        # plot data\n",
    "        hypervolume_subfigure.clear()\n",
    "        objective_space_subfigure.clear()\n",
    "        hypervolume_value = hypervolume(population, reference_point)\n",
    "        hypervolume_history = np.append(hypervolume_history,np.array([[generation, hypervolume_value]]), axis = 0) \n",
    "        plot_data(hypervolume_subfigure, hypervolume_history, '-', 'hypervolume', 'b')   \n",
    "        hypervolume_subfigure.set_title('Hypervolume through generations')\n",
    "        hypervolume_subfigure.set_xlabel('Generation')\n",
    "        hypervolume_subfigure.set_ylabel('Hypervolume')\n",
    "        hypervolume_subfigure.set_xbound([-1, number_of_generations+1])\n",
    "        hypervolume_subfigure.set_ybound([0, hypervolume_upper_limit])\n",
    "        \n",
    "        pop_fitness_data_all = fitness_data(population)         \n",
    "        plot_data(objective_space_subfigure, pop_fitness_data_all, '.', 'Individuals in population', 'lightblue')  \n",
    "        pop_fitness_data_nondominated = fitness_data(nondominated_individuals)         \n",
    "        plot_data(objective_space_subfigure, pop_fitness_data_nondominated, '.', 'Nondominated individuals', 'b')  \n",
    "        objective_space_subfigure.set_title('Objective space')\n",
    "        objective_space_subfigure.set_xlabel(objective_name[0])\n",
    "        objective_space_subfigure.set_ylabel(objective_name[1])\n",
    "        objective_space_subfigure.set_xbound(objective_limit[0])\n",
    "        objective_space_subfigure.set_ybound(objective_limit[1])\n",
    "        objective_space_subfigure.legend()\n",
    "        main_figure.canvas.draw() \n",
    "    \n",
    "    return hypervolume_value\n",
    "\n",
    "population_size_label = widgets.Label(value=\"Population size:\")\n",
    "population_size_slider = widgets.IntSlider(value=100, min=20, max=400, step=20, disabled=False, continuous_update=False, \n",
    "                            orientation='horizontal', readout=True, readout_format='d')\n",
    "number_of_generations_label = widgets.Label(value=\"Number of generations:\")\n",
    "number_of_generations_slider = widgets.IntSlider(value=100, min=20, max=200, step=20, disabled=False, continuous_update=False, \n",
    "                            orientation='horizontal', readout=True, readout_format='d')\n",
    "crossover_probability_label = widgets.Label(value=\"Crossover probability:\")\n",
    "crossover_probability_slider = widgets.FloatSlider(value=0.9, min=0.0, max=1.0, step=0.01, disabled=False, \n",
    "                                    continuous_update=False, orientation='horizontal',readout=True, readout_format='.2f')\n",
    "mutation_probability_label = widgets.Label(value=\"Mutation probability:\")\n",
    "mutation_probability_slider = widgets.FloatSlider(value=0.1, min=0.0, max=1.0, step=0.01, disabled=False, \n",
    "                                    continuous_update=False, orientation='horizontal', readout=True, readout_format='.2f')\n",
    "evolution_button = Button(description='Start evolution')\n",
    "\n",
    "box_layout = Layout(display='flex', flex_flow='column', align_items='center', border='none',width='80%')\n",
    "\n",
    "label_box = widgets.VBox([population_size_label, number_of_generations_label, crossover_probability_label,\n",
    "                         mutation_probability_label])\n",
    "slider_box = widgets.VBox([population_size_slider, number_of_generations_slider, crossover_probability_slider, \n",
    "                          mutation_probability_slider])\n",
    "label_slider_box = widgets.HBox([label_box, slider_box])\n",
    "\n",
    "main_figure = None\n",
    "objective_space_subfigure = None\n",
    "hypervolume_subfigure = None\n",
    "\n",
    "def on_button_clicked(b):\n",
    "    global main_figure\n",
    "    global objective_space_subfigure\n",
    "    global hypervolume_subfigure\n",
    "    if main_figure is None:\n",
    "        main_figure = plt.figure(figsize=(10,5))\n",
    "        objective_space_subfigure = main_figure.add_subplot(121)\n",
    "        hypervolume_subfigure = main_figure.add_subplot(122)\n",
    "        plt.ion()\n",
    "        main_figure.show()\n",
    "        main_figure.canvas.draw() \n",
    "    evolution_button.disabled = True\n",
    "    evolution_button.description = \"Evolution in progress...\"\n",
    "    print(\"Population size: \"+str(population_size_slider.value))\n",
    "    print(\"Number of generations: \"+str(number_of_generations_slider.value))\n",
    "    print(\"Crossover probability: \"+str(crossover_probability_slider.value))\n",
    "    print(\"Mutation probability: \"+str(mutation_probability_slider.value))\n",
    "    hypervolume_value = optimize(population_size_slider.value, number_of_generations_slider.value, \n",
    "                                 crossover_probability_slider.value, mutation_probability_slider.value)\n",
    "    print(\"Final hypervolume: %f\" % hypervolume_value)\n",
    "    print(\"****************************************\")\n",
    "    evolution_button.description = \"Start evolution\"\n",
    "    evolution_button.disabled = False\n",
    "\n",
    "evolution_button.on_click(on_button_clicked)\n",
    "\n",
    "top_label = widgets.Label(value=\"Optimization parameters\", layout=Layout(width='80%'))\n",
    "\n",
    "box_all = Box(children=[top_label, label_slider_box, evolution_button], layout=box_layout)\n",
    "box_all"
   ]
  },
  {
   "cell_type": "code",
   "execution_count": null,
   "metadata": {},
   "outputs": [],
   "source": [
    "%%javascript\n",
    "// Hide the code blocks. \n",
    "// Example of usage: At the beginning, click on Cell -> Run All. In this case, all the code blocks will be hidden.\n",
    "\n",
    "//var visibleElements1 = jQuery('.prompt').find(':visible').not('script');\n",
    "//jQuery('.input').toggle(); \n",
    "//jQuery('.prompt').toggle();\n",
    "//var visibleElements2 = jQuery('.prompt').find(':visible').not('script');\n",
    "//if (visibleElements2.length > visibleElements1.length)\n",
    "//{\n",
    "//    jQuery('.input').toggle(); \n",
    "//    jQuery('.prompt').toggle();\n",
    "//}\n",
    "//var button1 = document.getElementById(\"showHideCodeButton\")\n",
    "//button1.innerHTML = 'Show code';"
   ]
  },
  {
   "cell_type": "code",
   "execution_count": null,
   "metadata": {},
   "outputs": [],
   "source": []
  },
  {
   "cell_type": "code",
   "execution_count": null,
   "metadata": {
    "collapsed": true
   },
   "outputs": [],
   "source": []
  },
  {
   "cell_type": "code",
   "execution_count": null,
   "metadata": {
    "collapsed": true
   },
   "outputs": [],
   "source": []
  },
  {
   "cell_type": "code",
   "execution_count": null,
   "metadata": {},
   "outputs": [],
   "source": []
  },
  {
   "cell_type": "code",
   "execution_count": null,
   "metadata": {},
   "outputs": [],
   "source": []
  }
 ],
 "metadata": {
  "kernelspec": {
   "display_name": "Python 3",
   "language": "python",
   "name": "python3"
  },
  "language_info": {
   "codemirror_mode": {
    "name": "ipython",
    "version": 3
   },
   "file_extension": ".py",
   "mimetype": "text/x-python",
   "name": "python",
   "nbconvert_exporter": "python",
   "pygments_lexer": "ipython3",
   "version": "3.5.3"
  }
 },
 "nbformat": 4,
 "nbformat_minor": 2
}
